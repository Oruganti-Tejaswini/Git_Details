{
  "nbformat": 4,
  "nbformat_minor": 0,
  "metadata": {
    "colab": {
      "provenance": []
    },
    "kernelspec": {
      "name": "python3",
      "display_name": "Python 3"
    },
    "language_info": {
      "name": "python"
    }
  },
  "cells": [
    {
      "cell_type": "code",
      "source": [
        "pip install gitpython\n"
      ],
      "metadata": {
        "colab": {
          "base_uri": "https://localhost:8080/"
        },
        "id": "LnTWQXYmK4LC",
        "outputId": "6131ce8a-45c3-4d3a-8fa4-ef3c9fd76857"
      },
      "execution_count": null,
      "outputs": [
        {
          "output_type": "stream",
          "name": "stdout",
          "text": [
            "Looking in indexes: https://pypi.org/simple, https://us-python.pkg.dev/colab-wheels/public/simple/\n",
            "Collecting gitpython\n",
            "  Downloading GitPython-3.1.30-py3-none-any.whl (184 kB)\n",
            "\u001b[2K     \u001b[90m━━━━━━━━━━━━━━━━━━━━━━━━━━━━━━━━━━━━━━━\u001b[0m \u001b[32m184.0/184.0 KB\u001b[0m \u001b[31m3.7 MB/s\u001b[0m eta \u001b[36m0:00:00\u001b[0m\n",
            "\u001b[?25hCollecting gitdb<5,>=4.0.1\n",
            "  Downloading gitdb-4.0.10-py3-none-any.whl (62 kB)\n",
            "\u001b[2K     \u001b[90m━━━━━━━━━━━━━━━━━━━━━━━━━━━━━━━━━━━━━━━━\u001b[0m \u001b[32m62.7/62.7 KB\u001b[0m \u001b[31m3.7 MB/s\u001b[0m eta \u001b[36m0:00:00\u001b[0m\n",
            "\u001b[?25hCollecting smmap<6,>=3.0.1\n",
            "  Downloading smmap-5.0.0-py3-none-any.whl (24 kB)\n",
            "Installing collected packages: smmap, gitdb, gitpython\n",
            "Successfully installed gitdb-4.0.10 gitpython-3.1.30 smmap-5.0.0\n"
          ]
        }
      ]
    },
    {
      "cell_type": "code",
      "source": [
        "\n",
        "from git import Repo\n",
        "from datetime import datetime\n",
        "\n",
        "def printGitDetails(localDir:str):\n",
        "\n",
        "  #Repository\n",
        "  local_repo = Repo(localDir)\n",
        "\n",
        "  #Active Branch\n",
        "  active_branch = local_repo.active_branch\n",
        "  print(\"active branch: \"+str(active_branch))\n",
        "\n",
        "  #Local Changes\n",
        "  changed = local_repo.index.diff(None)\n",
        "  ischanged = False \n",
        "  if len(changed) == 0:\n",
        "    ischanged = False\n",
        "  else:\n",
        "    ischanged = True\n",
        "\n",
        "  print(\"local changes: \",ischanged)\n",
        "\n",
        "  #Recent Commit\n",
        "\n",
        "  recentCommit = local_repo.commit(str(active_branch))\n",
        "  commitedTime = datetime.fromtimestamp(recentCommit.committed_date)\n",
        "  currentTime = datetime.now()\n",
        "  diffTime = currentTime - commitedTime\n",
        "  isRecentCommit = True\n",
        "  if diffTime.days > 7:\n",
        "    isRecentCommit = False\n",
        "\n",
        "  print(\"recent commit: \",isRecentCommit)\n",
        "\n",
        "  #Author Rufus\n",
        "  blameRufus = False\n",
        "  if recentCommit.author.name == \"Rufus\":\n",
        "    blameRufus = True\n",
        "\n",
        "  print(\"blame Rufus: \",blameRufus)\n",
        "\n",
        "\n"
      ],
      "metadata": {
        "id": "L-H80Z7pKjX6"
      },
      "execution_count": null,
      "outputs": []
    },
    {
      "cell_type": "code",
      "source": [
        "local_git_path = input(\"Enter local git repository directory:\")\n",
        "printGitDetails(local_git_path)"
      ],
      "metadata": {
        "colab": {
          "base_uri": "https://localhost:8080/"
        },
        "id": "iVAiHfingh3I",
        "outputId": "485c55dc-5770-499e-acd3-0751d5a7d071"
      },
      "execution_count": null,
      "outputs": [
        {
          "output_type": "stream",
          "name": "stdout",
          "text": [
            "Enter local git repository directory:/content/git_details_local\n",
            "active branch: main\n",
            "local changes:  False\n",
            "recent commit:  True\n",
            "blame Rufus:  False\n"
          ]
        }
      ]
    }
  ]
}