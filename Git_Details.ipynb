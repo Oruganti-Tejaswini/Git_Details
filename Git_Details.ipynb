{
  "nbformat": 4,
  "nbformat_minor": 0,
  "metadata": {
    "colab": {
      "provenance": []
    },
    "kernelspec": {
      "name": "python3",
      "display_name": "Python 3"
    },
    "language_info": {
      "name": "python"
    }
  },
  "cells": [
    {
      "cell_type": "code",
      "source": [
        "pip install gitpython\n"
      ],
      "metadata": {
        "colab": {
          "base_uri": "https://localhost:8080/"
        },
        "id": "LnTWQXYmK4LC",
        "outputId": "d0a2bdf4-cb52-41e4-ad99-959cdb6b9c4b"
      },
      "execution_count": 133,
      "outputs": [
        {
          "output_type": "stream",
          "name": "stdout",
          "text": [
            "Looking in indexes: https://pypi.org/simple, https://us-python.pkg.dev/colab-wheels/public/simple/\n",
            "Requirement already satisfied: gitpython in /usr/local/lib/python3.8/dist-packages (3.1.30)\n",
            "Requirement already satisfied: gitdb<5,>=4.0.1 in /usr/local/lib/python3.8/dist-packages (from gitpython) (4.0.10)\n",
            "Requirement already satisfied: smmap<6,>=3.0.1 in /usr/local/lib/python3.8/dist-packages (from gitdb<5,>=4.0.1->gitpython) (5.0.0)\n"
          ]
        }
      ]
    },
    {
      "cell_type": "code",
      "source": [
        "\n",
        "from git import Repo\n",
        "from datetime import datetime\n",
        "\n",
        "def printGitDetails(localDir:str):\n",
        "\n",
        "  #Repository\n",
        "  local_repo = Repo(localDir)\n",
        "\n",
        "  #Active Branch\n",
        "  active_branch = local_repo.active_branch\n",
        "  print(\"active branch: \"+str(active_branch))\n",
        "\n",
        "  #Local Changes\n",
        "  changed = local_repo.index.diff(None)\n",
        "  ischanged = False \n",
        "  if len(changed) == 0:\n",
        "    ischanged = False\n",
        "  else:\n",
        "    ischanged = True\n",
        "\n",
        "  print(\"local changes: \",ischanged)\n",
        "\n",
        "  #Recent Commit\n",
        "\n",
        "  recentCommit = local_repo.commit(str(active_branch))\n",
        "  commitedTime = datetime.fromtimestamp(recentCommit.committed_date)\n",
        "  currentTime = datetime.now()\n",
        "  diffTime = currentTime - commitedTime\n",
        "  isRecentCommit = True\n",
        "  if diffTime.days > 7:\n",
        "    isRecentCommit = False\n",
        "\n",
        "  print(\"recent commit: \",isRecentCommit)\n",
        "\n",
        "  #Author Rufus\n",
        "  blameRufus = False\n",
        "  if recentCommit.author.name == \"Rufus\":\n",
        "    blameRufus = True\n",
        "\n",
        "  print(\"blame Rufus: \",blameRufus)\n",
        "\n",
        "\n"
      ],
      "metadata": {
        "id": "L-H80Z7pKjX6"
      },
      "execution_count": 134,
      "outputs": []
    },
    {
      "cell_type": "code",
      "source": [
        "printGitDetails(\"/content/Git_Repo\")"
      ],
      "metadata": {
        "colab": {
          "base_uri": "https://localhost:8080/"
        },
        "id": "fi7bhwm9Rybq",
        "outputId": "dea5cba7-5722-45fb-8310-3ecf3e07dc69"
      },
      "execution_count": 135,
      "outputs": [
        {
          "output_type": "stream",
          "name": "stdout",
          "text": [
            "active branch: main\n",
            "local changes:  False\n",
            "recent commit:  False\n",
            "blame Rufus:  False\n"
          ]
        }
      ]
    }
  ]
}